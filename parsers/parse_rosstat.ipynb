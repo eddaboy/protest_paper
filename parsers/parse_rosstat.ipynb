{
 "cells": [
  {
   "cell_type": "code",
   "execution_count": null,
   "metadata": {},
   "outputs": [
    {
     "name": "stdout",
     "output_type": "stream",
     "text": [
      "5.3.0\n"
     ]
    }
   ],
   "source": [
    "import pandas as pd\n",
    "import selenium\n",
    "import requests\n",
    "from bs4 import BeautifulSoup\n",
    "import lxml\n",
    "from selenium.webdriver.common.by import By\n",
    "print(lxml.__version__)\n",
    "from selenium import webdriver\n",
    "from selenium.webdriver.chrome.service import Service\n",
    "from webdriver_manager.chrome import ChromeDriverManager\n",
    "import time\n",
    "service = Service(ChromeDriverManager().install())\n",
    "driver = webdriver.Chrome()\n"
   ]
  },
  {
   "cell_type": "code",
   "execution_count": null,
   "metadata": {},
   "outputs": [
    {
     "ename": "WebDriverException",
     "evalue": "Message: unknown error: net::ERR_CONNECTION_REFUSED\n  (Session info: chrome=126.0.6478.127)\nStacktrace:\n\tGetHandleVerifier [0x00007FF7BC60EEB2+31554]\n\t(No symbol) [0x00007FF7BC587EE9]\n\t(No symbol) [0x00007FF7BC44872A]\n\t(No symbol) [0x00007FF7BC440782]\n\t(No symbol) [0x00007FF7BC431294]\n\t(No symbol) [0x00007FF7BC432B02]\n\t(No symbol) [0x00007FF7BC4315C1]\n\t(No symbol) [0x00007FF7BC430DA1]\n\t(No symbol) [0x00007FF7BC430CE0]\n\t(No symbol) [0x00007FF7BC42EC6D]\n\t(No symbol) [0x00007FF7BC42F2AC]\n\t(No symbol) [0x00007FF7BC44B501]\n\t(No symbol) [0x00007FF7BC4DD33E]\n\t(No symbol) [0x00007FF7BC4BD02A]\n\t(No symbol) [0x00007FF7BC4DC977]\n\t(No symbol) [0x00007FF7BC4BCDD3]\n\t(No symbol) [0x00007FF7BC48A33B]\n\t(No symbol) [0x00007FF7BC48AED1]\n\tGetHandleVerifier [0x00007FF7BC918B2D+3217341]\n\tGetHandleVerifier [0x00007FF7BC965AF3+3532675]\n\tGetHandleVerifier [0x00007FF7BC95B0F0+3489152]\n\tGetHandleVerifier [0x00007FF7BC6BE786+750614]\n\t(No symbol) [0x00007FF7BC59376F]\n\t(No symbol) [0x00007FF7BC58EB24]\n\t(No symbol) [0x00007FF7BC58ECB2]\n\t(No symbol) [0x00007FF7BC57E17F]\n\tBaseThreadInitThunk [0x00007FFB44F97374+20]\n\tRtlUserThreadStart [0x00007FFB4531CC91+33]\n",
     "output_type": "error",
     "traceback": [
      "\u001b[1;31m---------------------------------------------------------------------------\u001b[0m",
      "\u001b[1;31mWebDriverException\u001b[0m                        Traceback (most recent call last)",
      "Cell \u001b[1;32mIn[5], line 2\u001b[0m\n\u001b[0;32m      1\u001b[0m ref \u001b[38;5;241m=\u001b[39m \u001b[38;5;124m'\u001b[39m\u001b[38;5;124mhttps://rosstat.gov.ru/storage/mediabank/munst.htm\u001b[39m\u001b[38;5;124m'\u001b[39m\n\u001b[1;32m----> 2\u001b[0m \u001b[43mdriver\u001b[49m\u001b[38;5;241;43m.\u001b[39;49m\u001b[43mget\u001b[49m\u001b[43m(\u001b[49m\u001b[43mref\u001b[49m\u001b[43m)\u001b[49m\n\u001b[0;32m      3\u001b[0m driver\u001b[38;5;241m.\u001b[39mimplicitly_wait(\u001b[38;5;241m0.5\u001b[39m)\n\u001b[0;32m      4\u001b[0m driver\u001b[38;5;241m.\u001b[39mmaximize_window()\n",
      "File \u001b[1;32md:\\anaconda3\\lib\\site-packages\\selenium\\webdriver\\remote\\webdriver.py:389\u001b[0m, in \u001b[0;36mWebDriver.get\u001b[1;34m(self, url)\u001b[0m\n\u001b[0;32m    387\u001b[0m \u001b[38;5;28;01mdef\u001b[39;00m \u001b[38;5;21mget\u001b[39m(\u001b[38;5;28mself\u001b[39m, url: \u001b[38;5;28mstr\u001b[39m) \u001b[38;5;241m-\u001b[39m\u001b[38;5;241m>\u001b[39m \u001b[38;5;28;01mNone\u001b[39;00m:\n\u001b[0;32m    388\u001b[0m     \u001b[38;5;124;03m\"\"\"Loads a web page in the current browser session.\"\"\"\u001b[39;00m\n\u001b[1;32m--> 389\u001b[0m     \u001b[38;5;28;43mself\u001b[39;49m\u001b[38;5;241;43m.\u001b[39;49m\u001b[43mexecute\u001b[49m\u001b[43m(\u001b[49m\u001b[43mCommand\u001b[49m\u001b[38;5;241;43m.\u001b[39;49m\u001b[43mGET\u001b[49m\u001b[43m,\u001b[49m\u001b[43m \u001b[49m\u001b[43m{\u001b[49m\u001b[38;5;124;43m\"\u001b[39;49m\u001b[38;5;124;43murl\u001b[39;49m\u001b[38;5;124;43m\"\u001b[39;49m\u001b[43m:\u001b[49m\u001b[43m \u001b[49m\u001b[43murl\u001b[49m\u001b[43m}\u001b[49m\u001b[43m)\u001b[49m\n",
      "File \u001b[1;32md:\\anaconda3\\lib\\site-packages\\selenium\\webdriver\\remote\\webdriver.py:380\u001b[0m, in \u001b[0;36mWebDriver.execute\u001b[1;34m(self, driver_command, params)\u001b[0m\n\u001b[0;32m    378\u001b[0m response \u001b[38;5;241m=\u001b[39m \u001b[38;5;28mself\u001b[39m\u001b[38;5;241m.\u001b[39mcommand_executor\u001b[38;5;241m.\u001b[39mexecute(driver_command, params)\n\u001b[0;32m    379\u001b[0m \u001b[38;5;28;01mif\u001b[39;00m response:\n\u001b[1;32m--> 380\u001b[0m     \u001b[38;5;28;43mself\u001b[39;49m\u001b[38;5;241;43m.\u001b[39;49m\u001b[43merror_handler\u001b[49m\u001b[38;5;241;43m.\u001b[39;49m\u001b[43mcheck_response\u001b[49m\u001b[43m(\u001b[49m\u001b[43mresponse\u001b[49m\u001b[43m)\u001b[49m\n\u001b[0;32m    381\u001b[0m     response[\u001b[38;5;124m\"\u001b[39m\u001b[38;5;124mvalue\u001b[39m\u001b[38;5;124m\"\u001b[39m] \u001b[38;5;241m=\u001b[39m \u001b[38;5;28mself\u001b[39m\u001b[38;5;241m.\u001b[39m_unwrap_value(response\u001b[38;5;241m.\u001b[39mget(\u001b[38;5;124m\"\u001b[39m\u001b[38;5;124mvalue\u001b[39m\u001b[38;5;124m\"\u001b[39m, \u001b[38;5;28;01mNone\u001b[39;00m))\n\u001b[0;32m    382\u001b[0m     \u001b[38;5;28;01mreturn\u001b[39;00m response\n",
      "File \u001b[1;32md:\\anaconda3\\lib\\site-packages\\selenium\\webdriver\\remote\\errorhandler.py:229\u001b[0m, in \u001b[0;36mErrorHandler.check_response\u001b[1;34m(self, response)\u001b[0m\n\u001b[0;32m    227\u001b[0m         alert_text \u001b[38;5;241m=\u001b[39m value[\u001b[38;5;124m\"\u001b[39m\u001b[38;5;124malert\u001b[39m\u001b[38;5;124m\"\u001b[39m]\u001b[38;5;241m.\u001b[39mget(\u001b[38;5;124m\"\u001b[39m\u001b[38;5;124mtext\u001b[39m\u001b[38;5;124m\"\u001b[39m)\n\u001b[0;32m    228\u001b[0m     \u001b[38;5;28;01mraise\u001b[39;00m exception_class(message, screen, stacktrace, alert_text)  \u001b[38;5;66;03m# type: ignore[call-arg]  # mypy is not smart enough here\u001b[39;00m\n\u001b[1;32m--> 229\u001b[0m \u001b[38;5;28;01mraise\u001b[39;00m exception_class(message, screen, stacktrace)\n",
      "\u001b[1;31mWebDriverException\u001b[0m: Message: unknown error: net::ERR_CONNECTION_REFUSED\n  (Session info: chrome=126.0.6478.127)\nStacktrace:\n\tGetHandleVerifier [0x00007FF7BC60EEB2+31554]\n\t(No symbol) [0x00007FF7BC587EE9]\n\t(No symbol) [0x00007FF7BC44872A]\n\t(No symbol) [0x00007FF7BC440782]\n\t(No symbol) [0x00007FF7BC431294]\n\t(No symbol) [0x00007FF7BC432B02]\n\t(No symbol) [0x00007FF7BC4315C1]\n\t(No symbol) [0x00007FF7BC430DA1]\n\t(No symbol) [0x00007FF7BC430CE0]\n\t(No symbol) [0x00007FF7BC42EC6D]\n\t(No symbol) [0x00007FF7BC42F2AC]\n\t(No symbol) [0x00007FF7BC44B501]\n\t(No symbol) [0x00007FF7BC4DD33E]\n\t(No symbol) [0x00007FF7BC4BD02A]\n\t(No symbol) [0x00007FF7BC4DC977]\n\t(No symbol) [0x00007FF7BC4BCDD3]\n\t(No symbol) [0x00007FF7BC48A33B]\n\t(No symbol) [0x00007FF7BC48AED1]\n\tGetHandleVerifier [0x00007FF7BC918B2D+3217341]\n\tGetHandleVerifier [0x00007FF7BC965AF3+3532675]\n\tGetHandleVerifier [0x00007FF7BC95B0F0+3489152]\n\tGetHandleVerifier [0x00007FF7BC6BE786+750614]\n\t(No symbol) [0x00007FF7BC59376F]\n\t(No symbol) [0x00007FF7BC58EB24]\n\t(No symbol) [0x00007FF7BC58ECB2]\n\t(No symbol) [0x00007FF7BC57E17F]\n\tBaseThreadInitThunk [0x00007FFB44F97374+20]\n\tRtlUserThreadStart [0x00007FFB4531CC91+33]\n"
     ]
    }
   ],
   "source": [
    "ref = 'https://rosstat.gov.ru/storage/mediabank/munst.htm'\n",
    "driver.get(ref)\n",
    "driver.implicitly_wait(0.5)\n",
    "driver.maximize_window()\n",
    "driver.implicitly_wait(1)\n",
    "\n",
    "region_links = driver.find_elements(By.XPATH, \"//a[contains(@href, 'munst')]\")\n",
    "print(region_links)\n",
    "links = []\n",
    "for link in region_links:\n",
    "    links.append((link.get_attribute('href'), link.text))\n",
    "# driver.close()\n"
   ]
  },
  {
   "cell_type": "code",
   "execution_count": null,
   "metadata": {},
   "outputs": [
    {
     "ename": "NameError",
     "evalue": "name 'links' is not defined",
     "output_type": "error",
     "traceback": [
      "\u001b[1;31m---------------------------------------------------------------------------\u001b[0m",
      "\u001b[1;31mNameError\u001b[0m                                 Traceback (most recent call last)",
      "Cell \u001b[1;32mIn[9], line 1\u001b[0m\n\u001b[1;32m----> 1\u001b[0m links \u001b[38;5;241m=\u001b[39m \u001b[43mlinks\u001b[49m[\u001b[38;5;241m1\u001b[39m:]\n",
      "\u001b[1;31mNameError\u001b[0m: name 'links' is not defined"
     ]
    }
   ],
   "source": [
    "links = links[1:]"
   ]
  },
  {
   "cell_type": "code",
   "execution_count": null,
   "metadata": {},
   "outputs": [],
   "source": [
    "def get_table_one_mun(link, cnt):\n",
    "    try:\n",
    "        if cnt == 0:\n",
    "\n",
    "            driver.implicitly_wait(0.5)\n",
    "            driver.maximize_window()\n",
    "            driver.implicitly_wait(1)\n",
    "        else:\n",
    "            window_handles = driver.window_handles\n",
    "            # # Переключаемся на последнюю открытую вкладку (новую)\n",
    "            driver.switch_to.window(window_handles[-1])\n",
    "        driver.get(link)\n",
    "        search_dir = driver.find_element(By.LINK_TEXT, 'Население') # сюда вставлять название папки со сферой, которую парсим на данный момент\n",
    "        search_dir.click()\n",
    "        search_elem = driver.find_element(By.NAME, 'p8112030') # сюда вставлять id для критерий\n",
    "        search_elem.click()\n",
    "        button_next = driver.find_element(By.ID, 'Knopka')\n",
    "        button_next.click()\n",
    "        all_mun = driver.find_element(By.NAME, 'munr_chk')\n",
    "        all_mun.click()\n",
    "        type_pos = driver.find_element(By.NAME, \"tippos_chk\")\n",
    "        type_pos.click()\n",
    "        mun_obr = driver.find_element(By.NAME, 'oktmo_chk')\n",
    "        mun_obr.click()\n",
    "        chk_years = driver.find_element(By.NAME, 'god_chk')\n",
    "        chk_years.click()\n",
    "        aa = driver.find_element(By.NAME, 'STbl')\n",
    "        aa.click()\n",
    "        window_handles = driver.window_handles\n",
    "        # # Переключаемся на последнюю открытую вкладку (новую)\n",
    "        driver.switch_to.window(window_handles[-1])\n",
    "        a = driver.find_element(By.NAME, 'Format')\n",
    "        a.click()\n",
    "        b = driver.find_element(By.XPATH, '//select//option[contains(text(), \"CSV\")]')\n",
    "        b.click()\n",
    "        c = driver.find_element(By.NAME, 'showtbl0')\n",
    "        c.click()\n",
    "        \n",
    "        driver.close()\n",
    "        # driver.quit()\n",
    "    except Exception as error:\n",
    "        print(error)"
   ]
  },
  {
   "cell_type": "code",
   "execution_count": null,
   "metadata": {},
   "outputs": [
    {
     "name": "stderr",
     "output_type": "stream",
     "text": [
      "  9%|▊         | 7/82 [00:41<06:12,  4.97s/it]"
     ]
    },
    {
     "name": "stdout",
     "output_type": "stream",
     "text": [
      "Message: no such element: Unable to locate element: {\"method\":\"css selector\",\"selector\":\"[name=\"p8112030\"]\"}\n",
      "  (Session info: chrome=132.0.6834.160); For documentation on this error, please visit: https://www.selenium.dev/documentation/webdriver/troubleshooting/errors#no-such-element-exception\n",
      "Stacktrace:\n",
      "\tGetHandleVerifier [0x00007FF65F5302F5+28725]\n",
      "\t(No symbol) [0x00007FF65F492AE0]\n",
      "\t(No symbol) [0x00007FF65F32510A]\n",
      "\t(No symbol) [0x00007FF65F3793D2]\n",
      "\t(No symbol) [0x00007FF65F3795FC]\n",
      "\t(No symbol) [0x00007FF65F3C3407]\n",
      "\t(No symbol) [0x00007FF65F39FFEF]\n",
      "\t(No symbol) [0x00007FF65F3C0181]\n",
      "\t(No symbol) [0x00007FF65F39FD53]\n",
      "\t(No symbol) [0x00007FF65F36A0E3]\n",
      "\t(No symbol) [0x00007FF65F36B471]\n",
      "\tGetHandleVerifier [0x00007FF65F85F30D+3366989]\n",
      "\tGetHandleVerifier [0x00007FF65F8712F0+3440688]\n",
      "\tGetHandleVerifier [0x00007FF65F8678FD+3401277]\n",
      "\tGetHandleVerifier [0x00007FF65F5FAAAB+858091]\n",
      "\t(No symbol) [0x00007FF65F49E74F]\n",
      "\t(No symbol) [0x00007FF65F49A304]\n",
      "\t(No symbol) [0x00007FF65F49A49D]\n",
      "\t(No symbol) [0x00007FF65F488B69]\n",
      "\tBaseThreadInitThunk [0x00007FFCE1FAE8D7+23]\n",
      "\tRtlUserThreadStart [0x00007FFCE2D5FBCC+44]\n",
      "\n"
     ]
    },
    {
     "name": "stderr",
     "output_type": "stream",
     "text": [
      " 21%|██        | 17/82 [01:38<05:53,  5.44s/it]"
     ]
    },
    {
     "name": "stdout",
     "output_type": "stream",
     "text": [
      "Message: no such element: Unable to locate element: {\"method\":\"css selector\",\"selector\":\"[name=\"munr_chk\"]\"}\n",
      "  (Session info: chrome=132.0.6834.160); For documentation on this error, please visit: https://www.selenium.dev/documentation/webdriver/troubleshooting/errors#no-such-element-exception\n",
      "Stacktrace:\n",
      "\tGetHandleVerifier [0x00007FF65F5302F5+28725]\n",
      "\t(No symbol) [0x00007FF65F492AE0]\n",
      "\t(No symbol) [0x00007FF65F32510A]\n",
      "\t(No symbol) [0x00007FF65F3793D2]\n",
      "\t(No symbol) [0x00007FF65F3795FC]\n",
      "\t(No symbol) [0x00007FF65F3C3407]\n",
      "\t(No symbol) [0x00007FF65F39FFEF]\n",
      "\t(No symbol) [0x00007FF65F3C0181]\n",
      "\t(No symbol) [0x00007FF65F39FD53]\n",
      "\t(No symbol) [0x00007FF65F36A0E3]\n",
      "\t(No symbol) [0x00007FF65F36B471]\n",
      "\tGetHandleVerifier [0x00007FF65F85F30D+3366989]\n",
      "\tGetHandleVerifier [0x00007FF65F8712F0+3440688]\n",
      "\tGetHandleVerifier [0x00007FF65F8678FD+3401277]\n",
      "\tGetHandleVerifier [0x00007FF65F5FAAAB+858091]\n",
      "\t(No symbol) [0x00007FF65F49E74F]\n",
      "\t(No symbol) [0x00007FF65F49A304]\n",
      "\t(No symbol) [0x00007FF65F49A49D]\n",
      "\t(No symbol) [0x00007FF65F488B69]\n",
      "\tBaseThreadInitThunk [0x00007FFCE1FAE8D7+23]\n",
      "\tRtlUserThreadStart [0x00007FFCE2D5FBCC+44]\n",
      "\n"
     ]
    },
    {
     "name": "stderr",
     "output_type": "stream",
     "text": [
      " 22%|██▏       | 18/82 [01:42<05:20,  5.01s/it]"
     ]
    },
    {
     "name": "stdout",
     "output_type": "stream",
     "text": [
      "Message: no such element: Unable to locate element: {\"method\":\"css selector\",\"selector\":\"[name=\"munr_chk\"]\"}\n",
      "  (Session info: chrome=132.0.6834.160); For documentation on this error, please visit: https://www.selenium.dev/documentation/webdriver/troubleshooting/errors#no-such-element-exception\n",
      "Stacktrace:\n",
      "\tGetHandleVerifier [0x00007FF65F5302F5+28725]\n",
      "\t(No symbol) [0x00007FF65F492AE0]\n",
      "\t(No symbol) [0x00007FF65F32510A]\n",
      "\t(No symbol) [0x00007FF65F3793D2]\n",
      "\t(No symbol) [0x00007FF65F3795FC]\n",
      "\t(No symbol) [0x00007FF65F3C3407]\n",
      "\t(No symbol) [0x00007FF65F39FFEF]\n",
      "\t(No symbol) [0x00007FF65F3C0181]\n",
      "\t(No symbol) [0x00007FF65F39FD53]\n",
      "\t(No symbol) [0x00007FF65F36A0E3]\n",
      "\t(No symbol) [0x00007FF65F36B471]\n",
      "\tGetHandleVerifier [0x00007FF65F85F30D+3366989]\n",
      "\tGetHandleVerifier [0x00007FF65F8712F0+3440688]\n",
      "\tGetHandleVerifier [0x00007FF65F8678FD+3401277]\n",
      "\tGetHandleVerifier [0x00007FF65F5FAAAB+858091]\n",
      "\t(No symbol) [0x00007FF65F49E74F]\n",
      "\t(No symbol) [0x00007FF65F49A304]\n",
      "\t(No symbol) [0x00007FF65F49A49D]\n",
      "\t(No symbol) [0x00007FF65F488B69]\n",
      "\tBaseThreadInitThunk [0x00007FFCE1FAE8D7+23]\n",
      "\tRtlUserThreadStart [0x00007FFCE2D5FBCC+44]\n",
      "\n"
     ]
    },
    {
     "name": "stderr",
     "output_type": "stream",
     "text": [
      " 26%|██▌       | 21/82 [01:59<05:19,  5.24s/it]"
     ]
    },
    {
     "name": "stdout",
     "output_type": "stream",
     "text": [
      "Message: no such element: Unable to locate element: {\"method\":\"css selector\",\"selector\":\"[name=\"munr_chk\"]\"}\n",
      "  (Session info: chrome=132.0.6834.160); For documentation on this error, please visit: https://www.selenium.dev/documentation/webdriver/troubleshooting/errors#no-such-element-exception\n",
      "Stacktrace:\n",
      "\tGetHandleVerifier [0x00007FF65F5302F5+28725]\n",
      "\t(No symbol) [0x00007FF65F492AE0]\n",
      "\t(No symbol) [0x00007FF65F32510A]\n",
      "\t(No symbol) [0x00007FF65F3793D2]\n",
      "\t(No symbol) [0x00007FF65F3795FC]\n",
      "\t(No symbol) [0x00007FF65F3C3407]\n",
      "\t(No symbol) [0x00007FF65F39FFEF]\n",
      "\t(No symbol) [0x00007FF65F3C0181]\n",
      "\t(No symbol) [0x00007FF65F39FD53]\n",
      "\t(No symbol) [0x00007FF65F36A0E3]\n",
      "\t(No symbol) [0x00007FF65F36B471]\n",
      "\tGetHandleVerifier [0x00007FF65F85F30D+3366989]\n",
      "\tGetHandleVerifier [0x00007FF65F8712F0+3440688]\n",
      "\tGetHandleVerifier [0x00007FF65F8678FD+3401277]\n",
      "\tGetHandleVerifier [0x00007FF65F5FAAAB+858091]\n",
      "\t(No symbol) [0x00007FF65F49E74F]\n",
      "\t(No symbol) [0x00007FF65F49A304]\n",
      "\t(No symbol) [0x00007FF65F49A49D]\n",
      "\t(No symbol) [0x00007FF65F488B69]\n",
      "\tBaseThreadInitThunk [0x00007FFCE1FAE8D7+23]\n",
      "\tRtlUserThreadStart [0x00007FFCE2D5FBCC+44]\n",
      "\n"
     ]
    },
    {
     "name": "stderr",
     "output_type": "stream",
     "text": [
      " 27%|██▋       | 22/82 [02:04<05:01,  5.02s/it]"
     ]
    },
    {
     "name": "stdout",
     "output_type": "stream",
     "text": [
      "Message: no such element: Unable to locate element: {\"method\":\"css selector\",\"selector\":\"[name=\"munr_chk\"]\"}\n",
      "  (Session info: chrome=132.0.6834.160); For documentation on this error, please visit: https://www.selenium.dev/documentation/webdriver/troubleshooting/errors#no-such-element-exception\n",
      "Stacktrace:\n",
      "\tGetHandleVerifier [0x00007FF65F5302F5+28725]\n",
      "\t(No symbol) [0x00007FF65F492AE0]\n",
      "\t(No symbol) [0x00007FF65F32510A]\n",
      "\t(No symbol) [0x00007FF65F3793D2]\n",
      "\t(No symbol) [0x00007FF65F3795FC]\n",
      "\t(No symbol) [0x00007FF65F3C3407]\n",
      "\t(No symbol) [0x00007FF65F39FFEF]\n",
      "\t(No symbol) [0x00007FF65F3C0181]\n",
      "\t(No symbol) [0x00007FF65F39FD53]\n",
      "\t(No symbol) [0x00007FF65F36A0E3]\n",
      "\t(No symbol) [0x00007FF65F36B471]\n",
      "\tGetHandleVerifier [0x00007FF65F85F30D+3366989]\n",
      "\tGetHandleVerifier [0x00007FF65F8712F0+3440688]\n",
      "\tGetHandleVerifier [0x00007FF65F8678FD+3401277]\n",
      "\tGetHandleVerifier [0x00007FF65F5FAAAB+858091]\n",
      "\t(No symbol) [0x00007FF65F49E74F]\n",
      "\t(No symbol) [0x00007FF65F49A304]\n",
      "\t(No symbol) [0x00007FF65F49A49D]\n",
      "\t(No symbol) [0x00007FF65F488B69]\n",
      "\tBaseThreadInitThunk [0x00007FFCE1FAE8D7+23]\n",
      "\tRtlUserThreadStart [0x00007FFCE2D5FBCC+44]\n",
      "\n"
     ]
    },
    {
     "name": "stderr",
     "output_type": "stream",
     "text": [
      " 38%|███▊      | 31/82 [03:01<05:48,  6.83s/it]"
     ]
    },
    {
     "name": "stdout",
     "output_type": "stream",
     "text": [
      "Message: no such element: Unable to locate element: {\"method\":\"css selector\",\"selector\":\"[name=\"munr_chk\"]\"}\n",
      "  (Session info: chrome=132.0.6834.160); For documentation on this error, please visit: https://www.selenium.dev/documentation/webdriver/troubleshooting/errors#no-such-element-exception\n",
      "Stacktrace:\n",
      "\tGetHandleVerifier [0x00007FF65F5302F5+28725]\n",
      "\t(No symbol) [0x00007FF65F492AE0]\n",
      "\t(No symbol) [0x00007FF65F32510A]\n",
      "\t(No symbol) [0x00007FF65F3793D2]\n",
      "\t(No symbol) [0x00007FF65F3795FC]\n",
      "\t(No symbol) [0x00007FF65F3C3407]\n",
      "\t(No symbol) [0x00007FF65F39FFEF]\n",
      "\t(No symbol) [0x00007FF65F3C0181]\n",
      "\t(No symbol) [0x00007FF65F39FD53]\n",
      "\t(No symbol) [0x00007FF65F36A0E3]\n",
      "\t(No symbol) [0x00007FF65F36B471]\n",
      "\tGetHandleVerifier [0x00007FF65F85F30D+3366989]\n",
      "\tGetHandleVerifier [0x00007FF65F8712F0+3440688]\n",
      "\tGetHandleVerifier [0x00007FF65F8678FD+3401277]\n",
      "\tGetHandleVerifier [0x00007FF65F5FAAAB+858091]\n",
      "\t(No symbol) [0x00007FF65F49E74F]\n",
      "\t(No symbol) [0x00007FF65F49A304]\n",
      "\t(No symbol) [0x00007FF65F49A49D]\n",
      "\t(No symbol) [0x00007FF65F488B69]\n",
      "\tBaseThreadInitThunk [0x00007FFCE1FAE8D7+23]\n",
      "\tRtlUserThreadStart [0x00007FFCE2D5FBCC+44]\n",
      "\n"
     ]
    },
    {
     "name": "stderr",
     "output_type": "stream",
     "text": [
      " 44%|████▍     | 36/82 [03:29<04:14,  5.53s/it]"
     ]
    },
    {
     "name": "stdout",
     "output_type": "stream",
     "text": [
      "Message: no such element: Unable to locate element: {\"method\":\"css selector\",\"selector\":\"[name=\"munr_chk\"]\"}\n",
      "  (Session info: chrome=132.0.6834.160); For documentation on this error, please visit: https://www.selenium.dev/documentation/webdriver/troubleshooting/errors#no-such-element-exception\n",
      "Stacktrace:\n",
      "\tGetHandleVerifier [0x00007FF65F5302F5+28725]\n",
      "\t(No symbol) [0x00007FF65F492AE0]\n",
      "\t(No symbol) [0x00007FF65F32510A]\n",
      "\t(No symbol) [0x00007FF65F3793D2]\n",
      "\t(No symbol) [0x00007FF65F3795FC]\n",
      "\t(No symbol) [0x00007FF65F3C3407]\n",
      "\t(No symbol) [0x00007FF65F39FFEF]\n",
      "\t(No symbol) [0x00007FF65F3C0181]\n",
      "\t(No symbol) [0x00007FF65F39FD53]\n",
      "\t(No symbol) [0x00007FF65F36A0E3]\n",
      "\t(No symbol) [0x00007FF65F36B471]\n",
      "\tGetHandleVerifier [0x00007FF65F85F30D+3366989]\n",
      "\tGetHandleVerifier [0x00007FF65F8712F0+3440688]\n",
      "\tGetHandleVerifier [0x00007FF65F8678FD+3401277]\n",
      "\tGetHandleVerifier [0x00007FF65F5FAAAB+858091]\n",
      "\t(No symbol) [0x00007FF65F49E74F]\n",
      "\t(No symbol) [0x00007FF65F49A304]\n",
      "\t(No symbol) [0x00007FF65F49A49D]\n",
      "\t(No symbol) [0x00007FF65F488B69]\n",
      "\tBaseThreadInitThunk [0x00007FFCE1FAE8D7+23]\n",
      "\tRtlUserThreadStart [0x00007FFCE2D5FBCC+44]\n",
      "\n"
     ]
    },
    {
     "name": "stderr",
     "output_type": "stream",
     "text": [
      " 46%|████▋     | 38/82 [03:39<03:50,  5.24s/it]"
     ]
    },
    {
     "name": "stdout",
     "output_type": "stream",
     "text": [
      "Message: no such element: Unable to locate element: {\"method\":\"css selector\",\"selector\":\"[name=\"munr_chk\"]\"}\n",
      "  (Session info: chrome=132.0.6834.160); For documentation on this error, please visit: https://www.selenium.dev/documentation/webdriver/troubleshooting/errors#no-such-element-exception\n",
      "Stacktrace:\n",
      "\tGetHandleVerifier [0x00007FF65F5302F5+28725]\n",
      "\t(No symbol) [0x00007FF65F492AE0]\n",
      "\t(No symbol) [0x00007FF65F32510A]\n",
      "\t(No symbol) [0x00007FF65F3793D2]\n",
      "\t(No symbol) [0x00007FF65F3795FC]\n",
      "\t(No symbol) [0x00007FF65F3C3407]\n",
      "\t(No symbol) [0x00007FF65F39FFEF]\n",
      "\t(No symbol) [0x00007FF65F3C0181]\n",
      "\t(No symbol) [0x00007FF65F39FD53]\n",
      "\t(No symbol) [0x00007FF65F36A0E3]\n",
      "\t(No symbol) [0x00007FF65F36B471]\n",
      "\tGetHandleVerifier [0x00007FF65F85F30D+3366989]\n",
      "\tGetHandleVerifier [0x00007FF65F8712F0+3440688]\n",
      "\tGetHandleVerifier [0x00007FF65F8678FD+3401277]\n",
      "\tGetHandleVerifier [0x00007FF65F5FAAAB+858091]\n",
      "\t(No symbol) [0x00007FF65F49E74F]\n",
      "\t(No symbol) [0x00007FF65F49A304]\n",
      "\t(No symbol) [0x00007FF65F49A49D]\n",
      "\t(No symbol) [0x00007FF65F488B69]\n",
      "\tBaseThreadInitThunk [0x00007FFCE1FAE8D7+23]\n",
      "\tRtlUserThreadStart [0x00007FFCE2D5FBCC+44]\n",
      "\n"
     ]
    },
    {
     "name": "stderr",
     "output_type": "stream",
     "text": [
      " 49%|████▉     | 40/82 [03:49<03:28,  4.95s/it]"
     ]
    },
    {
     "name": "stdout",
     "output_type": "stream",
     "text": [
      "Message: no such element: Unable to locate element: {\"method\":\"css selector\",\"selector\":\"[name=\"munr_chk\"]\"}\n",
      "  (Session info: chrome=132.0.6834.160); For documentation on this error, please visit: https://www.selenium.dev/documentation/webdriver/troubleshooting/errors#no-such-element-exception\n",
      "Stacktrace:\n",
      "\tGetHandleVerifier [0x00007FF65F5302F5+28725]\n",
      "\t(No symbol) [0x00007FF65F492AE0]\n",
      "\t(No symbol) [0x00007FF65F32510A]\n",
      "\t(No symbol) [0x00007FF65F3793D2]\n",
      "\t(No symbol) [0x00007FF65F3795FC]\n",
      "\t(No symbol) [0x00007FF65F3C3407]\n",
      "\t(No symbol) [0x00007FF65F39FFEF]\n",
      "\t(No symbol) [0x00007FF65F3C0181]\n",
      "\t(No symbol) [0x00007FF65F39FD53]\n",
      "\t(No symbol) [0x00007FF65F36A0E3]\n",
      "\t(No symbol) [0x00007FF65F36B471]\n",
      "\tGetHandleVerifier [0x00007FF65F85F30D+3366989]\n",
      "\tGetHandleVerifier [0x00007FF65F8712F0+3440688]\n",
      "\tGetHandleVerifier [0x00007FF65F8678FD+3401277]\n",
      "\tGetHandleVerifier [0x00007FF65F5FAAAB+858091]\n",
      "\t(No symbol) [0x00007FF65F49E74F]\n",
      "\t(No symbol) [0x00007FF65F49A304]\n",
      "\t(No symbol) [0x00007FF65F49A49D]\n",
      "\t(No symbol) [0x00007FF65F488B69]\n",
      "\tBaseThreadInitThunk [0x00007FFCE1FAE8D7+23]\n",
      "\tRtlUserThreadStart [0x00007FFCE2D5FBCC+44]\n",
      "\n"
     ]
    },
    {
     "name": "stderr",
     "output_type": "stream",
     "text": [
      " 62%|██████▏   | 51/82 [04:50<02:27,  4.76s/it]"
     ]
    },
    {
     "name": "stdout",
     "output_type": "stream",
     "text": [
      "Message: element not interactable\n",
      "  (Session info: chrome=132.0.6834.160)\n",
      "Stacktrace:\n",
      "\tGetHandleVerifier [0x00007FF65F5302F5+28725]\n",
      "\t(No symbol) [0x00007FF65F492AE0]\n",
      "\t(No symbol) [0x00007FF65F324F39]\n",
      "\t(No symbol) [0x00007FF65F37A7D4]\n",
      "\t(No symbol) [0x00007FF65F36C6B4]\n",
      "\t(No symbol) [0x00007FF65F39FFAA]\n",
      "\t(No symbol) [0x00007FF65F36BF86]\n",
      "\t(No symbol) [0x00007FF65F3A01C0]\n",
      "\t(No symbol) [0x00007FF65F3C0181]\n",
      "\t(No symbol) [0x00007FF65F39FD53]\n",
      "\t(No symbol) [0x00007FF65F36A0E3]\n",
      "\t(No symbol) [0x00007FF65F36B471]\n",
      "\tGetHandleVerifier [0x00007FF65F85F30D+3366989]\n",
      "\tGetHandleVerifier [0x00007FF65F8712F0+3440688]\n",
      "\tGetHandleVerifier [0x00007FF65F8678FD+3401277]\n",
      "\tGetHandleVerifier [0x00007FF65F5FAAAB+858091]\n",
      "\t(No symbol) [0x00007FF65F49E74F]\n",
      "\t(No symbol) [0x00007FF65F49A304]\n",
      "\t(No symbol) [0x00007FF65F49A49D]\n",
      "\t(No symbol) [0x00007FF65F488B69]\n",
      "\tBaseThreadInitThunk [0x00007FFCE1FAE8D7+23]\n",
      "\tRtlUserThreadStart [0x00007FFCE2D5FBCC+44]\n",
      "\n"
     ]
    },
    {
     "name": "stderr",
     "output_type": "stream",
     "text": [
      " 66%|██████▌   | 54/82 [05:06<02:20,  5.03s/it]"
     ]
    },
    {
     "name": "stdout",
     "output_type": "stream",
     "text": [
      "Message: no such element: Unable to locate element: {\"method\":\"css selector\",\"selector\":\"[name=\"munr_chk\"]\"}\n",
      "  (Session info: chrome=132.0.6834.160); For documentation on this error, please visit: https://www.selenium.dev/documentation/webdriver/troubleshooting/errors#no-such-element-exception\n",
      "Stacktrace:\n",
      "\tGetHandleVerifier [0x00007FF65F5302F5+28725]\n",
      "\t(No symbol) [0x00007FF65F492AE0]\n",
      "\t(No symbol) [0x00007FF65F32510A]\n",
      "\t(No symbol) [0x00007FF65F3793D2]\n",
      "\t(No symbol) [0x00007FF65F3795FC]\n",
      "\t(No symbol) [0x00007FF65F3C3407]\n",
      "\t(No symbol) [0x00007FF65F39FFEF]\n",
      "\t(No symbol) [0x00007FF65F3C0181]\n",
      "\t(No symbol) [0x00007FF65F39FD53]\n",
      "\t(No symbol) [0x00007FF65F36A0E3]\n",
      "\t(No symbol) [0x00007FF65F36B471]\n",
      "\tGetHandleVerifier [0x00007FF65F85F30D+3366989]\n",
      "\tGetHandleVerifier [0x00007FF65F8712F0+3440688]\n",
      "\tGetHandleVerifier [0x00007FF65F8678FD+3401277]\n",
      "\tGetHandleVerifier [0x00007FF65F5FAAAB+858091]\n",
      "\t(No symbol) [0x00007FF65F49E74F]\n",
      "\t(No symbol) [0x00007FF65F49A304]\n",
      "\t(No symbol) [0x00007FF65F49A49D]\n",
      "\t(No symbol) [0x00007FF65F488B69]\n",
      "\tBaseThreadInitThunk [0x00007FFCE1FAE8D7+23]\n",
      "\tRtlUserThreadStart [0x00007FFCE2D5FBCC+44]\n",
      "\n"
     ]
    },
    {
     "name": "stderr",
     "output_type": "stream",
     "text": [
      " 76%|███████▌  | 62/82 [05:47<01:28,  4.43s/it]"
     ]
    },
    {
     "name": "stdout",
     "output_type": "stream",
     "text": [
      "Message: no such element: Unable to locate element: {\"method\":\"link text\",\"selector\":\"Население\"}\n",
      "  (Session info: chrome=132.0.6834.160); For documentation on this error, please visit: https://www.selenium.dev/documentation/webdriver/troubleshooting/errors#no-such-element-exception\n",
      "Stacktrace:\n",
      "\tGetHandleVerifier [0x00007FF65F5302F5+28725]\n",
      "\t(No symbol) [0x00007FF65F492AE0]\n",
      "\t(No symbol) [0x00007FF65F32510A]\n",
      "\t(No symbol) [0x00007FF65F3793D2]\n",
      "\t(No symbol) [0x00007FF65F3795FC]\n",
      "\t(No symbol) [0x00007FF65F3C3407]\n",
      "\t(No symbol) [0x00007FF65F39FFEF]\n",
      "\t(No symbol) [0x00007FF65F3C0181]\n",
      "\t(No symbol) [0x00007FF65F39FD53]\n",
      "\t(No symbol) [0x00007FF65F36A0E3]\n",
      "\t(No symbol) [0x00007FF65F36B471]\n",
      "\tGetHandleVerifier [0x00007FF65F85F30D+3366989]\n",
      "\tGetHandleVerifier [0x00007FF65F8712F0+3440688]\n",
      "\tGetHandleVerifier [0x00007FF65F8678FD+3401277]\n",
      "\tGetHandleVerifier [0x00007FF65F5FAAAB+858091]\n",
      "\t(No symbol) [0x00007FF65F49E74F]\n",
      "\t(No symbol) [0x00007FF65F49A304]\n",
      "\t(No symbol) [0x00007FF65F49A49D]\n",
      "\t(No symbol) [0x00007FF65F488B69]\n",
      "\tBaseThreadInitThunk [0x00007FFCE1FAE8D7+23]\n",
      "\tRtlUserThreadStart [0x00007FFCE2D5FBCC+44]\n",
      "\n"
     ]
    },
    {
     "name": "stderr",
     "output_type": "stream",
     "text": [
      " 88%|████████▊ | 72/82 [06:42<00:51,  5.19s/it]"
     ]
    },
    {
     "name": "stdout",
     "output_type": "stream",
     "text": [
      "Message: no such element: Unable to locate element: {\"method\":\"css selector\",\"selector\":\"[name=\"munr_chk\"]\"}\n",
      "  (Session info: chrome=132.0.6834.160); For documentation on this error, please visit: https://www.selenium.dev/documentation/webdriver/troubleshooting/errors#no-such-element-exception\n",
      "Stacktrace:\n",
      "\tGetHandleVerifier [0x00007FF65F5302F5+28725]\n",
      "\t(No symbol) [0x00007FF65F492AE0]\n",
      "\t(No symbol) [0x00007FF65F32510A]\n",
      "\t(No symbol) [0x00007FF65F3793D2]\n",
      "\t(No symbol) [0x00007FF65F3795FC]\n",
      "\t(No symbol) [0x00007FF65F3C3407]\n",
      "\t(No symbol) [0x00007FF65F39FFEF]\n",
      "\t(No symbol) [0x00007FF65F3C0181]\n",
      "\t(No symbol) [0x00007FF65F39FD53]\n",
      "\t(No symbol) [0x00007FF65F36A0E3]\n",
      "\t(No symbol) [0x00007FF65F36B471]\n",
      "\tGetHandleVerifier [0x00007FF65F85F30D+3366989]\n",
      "\tGetHandleVerifier [0x00007FF65F8712F0+3440688]\n",
      "\tGetHandleVerifier [0x00007FF65F8678FD+3401277]\n",
      "\tGetHandleVerifier [0x00007FF65F5FAAAB+858091]\n",
      "\t(No symbol) [0x00007FF65F49E74F]\n",
      "\t(No symbol) [0x00007FF65F49A304]\n",
      "\t(No symbol) [0x00007FF65F49A49D]\n",
      "\t(No symbol) [0x00007FF65F488B69]\n",
      "\tBaseThreadInitThunk [0x00007FFCE1FAE8D7+23]\n",
      "\tRtlUserThreadStart [0x00007FFCE2D5FBCC+44]\n",
      "\n"
     ]
    },
    {
     "name": "stderr",
     "output_type": "stream",
     "text": [
      " 93%|█████████▎| 76/82 [07:04<00:30,  5.03s/it]"
     ]
    },
    {
     "name": "stdout",
     "output_type": "stream",
     "text": [
      "Message: element not interactable\n",
      "  (Session info: chrome=132.0.6834.160)\n",
      "Stacktrace:\n",
      "\tGetHandleVerifier [0x00007FF65F5302F5+28725]\n",
      "\t(No symbol) [0x00007FF65F492AE0]\n",
      "\t(No symbol) [0x00007FF65F324F39]\n",
      "\t(No symbol) [0x00007FF65F37A7D4]\n",
      "\t(No symbol) [0x00007FF65F36C6B4]\n",
      "\t(No symbol) [0x00007FF65F39FFAA]\n",
      "\t(No symbol) [0x00007FF65F36BF86]\n",
      "\t(No symbol) [0x00007FF65F3A01C0]\n",
      "\t(No symbol) [0x00007FF65F3C0181]\n",
      "\t(No symbol) [0x00007FF65F39FD53]\n",
      "\t(No symbol) [0x00007FF65F36A0E3]\n",
      "\t(No symbol) [0x00007FF65F36B471]\n",
      "\tGetHandleVerifier [0x00007FF65F85F30D+3366989]\n",
      "\tGetHandleVerifier [0x00007FF65F8712F0+3440688]\n",
      "\tGetHandleVerifier [0x00007FF65F8678FD+3401277]\n",
      "\tGetHandleVerifier [0x00007FF65F5FAAAB+858091]\n",
      "\t(No symbol) [0x00007FF65F49E74F]\n",
      "\t(No symbol) [0x00007FF65F49A304]\n",
      "\t(No symbol) [0x00007FF65F49A49D]\n",
      "\t(No symbol) [0x00007FF65F488B69]\n",
      "\tBaseThreadInitThunk [0x00007FFCE1FAE8D7+23]\n",
      "\tRtlUserThreadStart [0x00007FFCE2D5FBCC+44]\n",
      "\n"
     ]
    },
    {
     "name": "stderr",
     "output_type": "stream",
     "text": [
      "100%|██████████| 82/82 [07:38<00:00,  5.60s/it]"
     ]
    },
    {
     "name": "stdout",
     "output_type": "stream",
     "text": [
      "Message: no such element: Unable to locate element: {\"method\":\"css selector\",\"selector\":\"[name=\"munr_chk\"]\"}\n",
      "  (Session info: chrome=132.0.6834.160); For documentation on this error, please visit: https://www.selenium.dev/documentation/webdriver/troubleshooting/errors#no-such-element-exception\n",
      "Stacktrace:\n",
      "\tGetHandleVerifier [0x00007FF65F5302F5+28725]\n",
      "\t(No symbol) [0x00007FF65F492AE0]\n",
      "\t(No symbol) [0x00007FF65F32510A]\n",
      "\t(No symbol) [0x00007FF65F3793D2]\n",
      "\t(No symbol) [0x00007FF65F3795FC]\n",
      "\t(No symbol) [0x00007FF65F3C3407]\n",
      "\t(No symbol) [0x00007FF65F39FFEF]\n",
      "\t(No symbol) [0x00007FF65F3C0181]\n",
      "\t(No symbol) [0x00007FF65F39FD53]\n",
      "\t(No symbol) [0x00007FF65F36A0E3]\n",
      "\t(No symbol) [0x00007FF65F36B471]\n",
      "\tGetHandleVerifier [0x00007FF65F85F30D+3366989]\n",
      "\tGetHandleVerifier [0x00007FF65F8712F0+3440688]\n",
      "\tGetHandleVerifier [0x00007FF65F8678FD+3401277]\n",
      "\tGetHandleVerifier [0x00007FF65F5FAAAB+858091]\n",
      "\t(No symbol) [0x00007FF65F49E74F]\n",
      "\t(No symbol) [0x00007FF65F49A304]\n",
      "\t(No symbol) [0x00007FF65F49A49D]\n",
      "\t(No symbol) [0x00007FF65F488B69]\n",
      "\tBaseThreadInitThunk [0x00007FFCE1FAE8D7+23]\n",
      "\tRtlUserThreadStart [0x00007FFCE2D5FBCC+44]\n",
      "\n"
     ]
    },
    {
     "name": "stderr",
     "output_type": "stream",
     "text": [
      "\n"
     ]
    }
   ],
   "source": [
    "from tqdm import tqdm\n",
    "cnt = 0\n",
    "for i in tqdm(links):\n",
    "    get_table_one_mun(i[0], cnt)\n",
    "    cnt += 1"
   ]
  }
 ],
 "metadata": {
  "kernelspec": {
   "display_name": "base",
   "language": "python",
   "name": "python3"
  },
  "language_info": {
   "codemirror_mode": {
    "name": "ipython",
    "version": 3
   },
   "file_extension": ".py",
   "mimetype": "text/x-python",
   "name": "python",
   "nbconvert_exporter": "python",
   "pygments_lexer": "ipython3",
   "version": "3.9.13"
  }
 },
 "nbformat": 4,
 "nbformat_minor": 2
}
